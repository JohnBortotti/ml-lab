{
 "cells": [
  {
   "cell_type": "code",
   "execution_count": 3,
   "id": "c2a44ca8-7898-4d91-a54e-cc64879150f5",
   "metadata": {},
   "outputs": [],
   "source": [
    "import torch\n",
    "import matplotlib.pyplot as plt\n",
    "import torch.nn.functional as F\n",
    "from IPython import display\n",
    "import kagglehub\n",
    "import pandas as pd\n",
    "import os"
   ]
  },
  {
   "cell_type": "code",
   "execution_count": 4,
   "id": "6fbb804f-bbdb-43f2-a6df-ecca4ae71324",
   "metadata": {},
   "outputs": [],
   "source": [
    "path = kagglehub.dataset_download(\"felipekitamura/brazilian-names\")\n",
    "\n",
    "br_names_df = pd.read_csv(os.path.join(path, 'all-pt-br-names.csv'))\n",
    "br_names = br_names_df[\"nomes-pt-br\"].values.tolist()\n",
    "words = br_names"
   ]
  },
  {
   "cell_type": "code",
   "execution_count": 5,
   "id": "23f6c007-d9b7-4b96-85bf-a376c3bd9dce",
   "metadata": {},
   "outputs": [],
   "source": [
    "# normalize dataset\n",
    "cleaned_words = []\n",
    "\n",
    "# Process each word in the dataset\n",
    "for word in words:\n",
    "    chars = list(word)\n",
    "\n",
    "    # Process each character in the word\n",
    "    for i in range(len(chars)):\n",
    "        # Handle accented characters\n",
    "        if chars[i] == 'Ã':\n",
    "            chars[i] = 'a'\n",
    "        elif chars[i] == 'Ç':\n",
    "            chars[i] = 'c'\n",
    "        elif chars[i] in ['É', 'Ê']:\n",
    "            chars[i] = 'e'\n",
    "        elif chars[i] == 'Í':\n",
    "            chars[i] = 'i'\n",
    "        elif chars[i] in ['Ó', 'Ô', 'Õ']:\n",
    "            chars[i] = 'o'\n",
    "        elif chars[i] == 'Ú':\n",
    "            chars[i] = 'u'\n",
    "        # Remove question marks\n",
    "        elif chars[i] == '?':\n",
    "            chars[i] = ''\n",
    "        # Convert to lowercase\n",
    "        else:\n",
    "            chars[i] = chars[i].lower()\n",
    "\n",
    "    # Join characters back together and remove any empty strings\n",
    "    cleaned_word = ''.join(c for c in chars if c)\n",
    "    cleaned_words.append(cleaned_word)\n",
    "\n",
    "# Replace the original words list with cleaned words\n",
    "words = cleaned_words"
   ]
  },
  {
   "cell_type": "code",
   "execution_count": 6,
   "id": "78580e57-6189-454b-a69b-b04fbb7968b5",
   "metadata": {},
   "outputs": [],
   "source": [
    "chars = sorted(list(set(''.join(words))))\n",
    "stoi = {s:i+1 for i,s in enumerate(chars)}\n",
    "stoi['.'] = 0\n",
    "itos = {i:s for s,i in stoi.items()}"
   ]
  },
  {
   "cell_type": "code",
   "execution_count": 7,
   "id": "406b090f-8668-44a0-9125-f35afb3e4d1f",
   "metadata": {},
   "outputs": [
    {
     "name": "stdout",
     "output_type": "stream",
     "text": [
      "26\n"
     ]
    }
   ],
   "source": [
    "print(len(chars))"
   ]
  },
  {
   "cell_type": "code",
   "execution_count": 8,
   "id": "41f63589-0440-4b28-be35-bb38dde000e2",
   "metadata": {},
   "outputs": [
    {
     "name": "stdout",
     "output_type": "stream",
     "text": [
      "number of examples:  827367\n"
     ]
    }
   ],
   "source": [
    "# create the dataset of bigrams (x,y)\n",
    "xs, ys = [], []\n",
    "for w in words:\n",
    "  chs = ['.'] + list(w) + ['.']\n",
    "  for ch1, ch2 in zip(chs, chs[1:]):\n",
    "    ix1 = stoi[ch1]\n",
    "    ix2 = stoi[ch2]\n",
    "    xs.append(ix1)\n",
    "    ys.append(ix2)\n",
    "\n",
    "xs = torch.tensor(xs)\n",
    "ys = torch.tensor(ys)\n",
    "\n",
    "num = xs.nelement()\n",
    "print('number of examples: ', num)"
   ]
  },
  {
   "cell_type": "code",
   "execution_count": 9,
   "id": "8da109b3-d125-4118-8cff-8a88c86a55a3",
   "metadata": {},
   "outputs": [
    {
     "name": "stdout",
     "output_type": "stream",
     "text": [
      "tensor([ 0,  1,  1,  ..., 25, 15, 14])\n",
      "tensor([ 1,  1,  2,  ..., 15, 14,  0])\n"
     ]
    }
   ],
   "source": [
    "# since we want to \"teach the next token\" to the model, we shift the label tensor by 1, so x[1] must be followed by y[1], and so on.\n",
    "print(xs)\n",
    "print(ys)"
   ]
  },
  {
   "cell_type": "code",
   "execution_count": 10,
   "id": "70d6403a-0eeb-4a0c-b88b-1d140d8c3e65",
   "metadata": {},
   "outputs": [],
   "source": [
    "# optimization\n",
    "g = torch.Generator().manual_seed(2147483647)\n",
    "W = torch.randn((27, 27), generator=g, requires_grad=True)\n",
    "\n",
    "losses = []  # Store losses for plotting\n",
    "\n",
    "for k in range(200):\n",
    "  # forward pass\n",
    "  xenc = F.one_hot(xs, num_classes=27).float() # input to the network: one-hot encoding\n",
    "  logits = xenc @ W # predict log-counts\n",
    "  counts = logits.exp()\n",
    "  probs = counts / counts.sum(1, keepdims=True) # probabilities for next character\n",
    "  loss = -probs[torch.arange(xs.nelement()), ys].log().mean()\n",
    "\n",
    "  losses.append(loss.item())\n",
    "\n",
    "  # print(\"epoch: \" + str(k))\n",
    "\n",
    "  W.grad = None # set to zero the gradient\n",
    "  loss.backward()\n",
    "\n",
    "  # update\n",
    "  W.data += -50 * W.grad"
   ]
  },
  {
   "cell_type": "code",
   "execution_count": 11,
   "id": "599c2ba5-6f6b-4ee2-9a70-59c66a78b82e",
   "metadata": {},
   "outputs": [
    {
     "name": "stdout",
     "output_type": "stream",
     "text": [
      "loss: 2.344893455505371\n"
     ]
    }
   ],
   "source": [
    "print(\"loss: \" + str(loss.item()))"
   ]
  },
  {
   "cell_type": "code",
   "execution_count": 12,
   "id": "15756de5-7be2-4ff9-9d1c-4886f1c05e03",
   "metadata": {},
   "outputs": [
    {
     "data": {
      "image/png": "[encoded data removed]",
      "text/plain": [
       "<Figure size 640x480 with 1 Axes>"
      ]
     },
     "metadata": {},
     "output_type": "display_data"
    }
   ],
   "source": [
    "# loss chart\n",
    "fig, ax = plt.subplots()\n",
    "\n",
    "ax.plot(losses)\n",
    "ax.set_xlabel('Epoch')\n",
    "ax.set_ylabel('Loss')\n",
    "ax.set_title('Training Loss over Time')\n",
    "ax.grid(True)"
   ]
  },
  {
   "cell_type": "code",
   "execution_count": 13,
   "id": "50da55b0-5d5c-4a2f-b53e-8dadd2852f18",
   "metadata": {},
   "outputs": [
    {
     "name": "stdout",
     "output_type": "stream",
     "text": [
      "fztmidpwfwxfshxirzan.\n",
      "fpsxqghvlzrrrbxvkvbkhtaezqzqepdvdpwdkgwdnu.\n",
      "bcdnosizgdowdcdfkcnjoquthxqzqgvvd.\n",
      "corrrryvdfsumvyxsjlqxypsfjfrrytupeweexquocvvygltbnjxenjdewxyg.\n",
      "ipudijexewdov.\n"
     ]
    }
   ],
   "source": [
    "# sample (empty model without training)\n",
    "Q = torch.randn((27,27), generator=g, requires_grad=True)\n",
    "\n",
    "for i in range(5):\n",
    "  out = []\n",
    "  ix = 0\n",
    "  while True:\n",
    "    xenc = F.one_hot(torch.tensor([ix]), num_classes=27).float() # one hot encoding\n",
    "    logits = xenc @ Q # predict log-counts\n",
    "    counts = logits.exp() # counts, equivalent to N\n",
    "    p = counts / counts.sum(1, keepdims=True) # probabilities for next character\n",
    "\n",
    "    ix = torch.multinomial(p, num_samples=1, replacement=True, generator=g).item()\n",
    "    out.append(itos[ix])\n",
    "    if ix == 0:\n",
    "      break\n",
    "  print(''.join(out))"
   ]
  },
  {
   "cell_type": "code",
   "execution_count": 34,
   "id": "8fcfa787-01b1-4600-97b5-5ed5727c91a0",
   "metadata": {},
   "outputs": [
    {
     "name": "stdout",
     "output_type": "stream",
     "text": [
      "hele.\n",
      "teruira.\n",
      "jualdanilar.\n",
      "reves.\n",
      "honci.\n"
     ]
    }
   ],
   "source": [
    "# sample (trained model)\n",
    "\n",
    "for i in range(5):\n",
    "  out = []\n",
    "  ix = 0\n",
    "  while True:\n",
    "    xenc = F.one_hot(torch.tensor([ix]), num_classes=27).float() # one hot encoding\n",
    "    logits = xenc @ W # predict log-counts\n",
    "    counts = logits.exp() # counts, equivalent to N\n",
    "    p = counts / counts.sum(1, keepdims=True) # probabilities for next character\n",
    "\n",
    "    ix = torch.multinomial(p, num_samples=1, replacement=True, generator=g).item()\n",
    "    out.append(itos[ix])\n",
    "    if ix == 0:\n",
    "      break\n",
    "  print(''.join(out))"
   ]
  }
 ],
 "metadata": {
  "kernelspec": {
   "display_name": "Python 3 (ipykernel)",
   "language": "python",
   "name": "python3"
  },
  "language_info": {
   "codemirror_mode": {
    "name": "ipython",
    "version": 3
   },
   "file_extension": ".py",
   "mimetype": "text/x-python",
   "name": "python",
   "nbconvert_exporter": "python",
   "pygments_lexer": "ipython3",
   "version": "3.9.5"
  }
 },
 "nbformat": 4,
 "nbformat_minor": 5
}
