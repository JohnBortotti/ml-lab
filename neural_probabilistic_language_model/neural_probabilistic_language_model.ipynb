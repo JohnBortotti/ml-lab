{
 "cells": [
  {
   "cell_type": "code",
   "execution_count": null,
   "metadata": {},
   "outputs": [],
   "source": [
    "pip install kagglehub"
   ]
  },
  {
   "cell_type": "code",
   "execution_count": 64,
   "metadata": {
    "executionInfo": {
     "elapsed": 11724,
     "status": "ok",
     "timestamp": 1740713334119,
     "user": {
      "displayName": "João Bortotti",
      "userId": "09973116309789708241"
     },
     "user_tz": 180
    },
    "id": "A2XLBjks2Xef"
   },
   "outputs": [],
   "source": [
    "import torch\n",
    "import matplotlib.pyplot as plt\n",
    "import numpy as np\n",
    "import kagglehub\n",
    "import pandas as pd\n",
    "import re\n",
    "from collections import Counter\n",
    "import torch.nn as nn\n",
    "from torch.utils.data import Dataset, DataLoader\n",
    "import time\n",
    "from tqdm import tqdm\n",
    "import torch.optim as optim\n",
    "from sklearn.decomposition import PCA"
   ]
  },
  {
   "cell_type": "code",
   "execution_count": 65,
   "metadata": {
    "editable": true,
    "slideshow": {
     "slide_type": ""
    },
    "tags": []
   },
   "outputs": [
    {
     "name": "stdout",
     "output_type": "stream",
     "text": [
      "PyTorch version: 2.5.1+cu121\n",
      "CUDA available: True\n",
      "CUDA version: 12.1\n",
      "Number of CUDA devices: 1\n"
     ]
    }
   ],
   "source": [
    "print(f\"PyTorch version: {torch.__version__}\")\n",
    "print(f\"CUDA available: {torch.cuda.is_available()}\")\n",
    "print(f\"CUDA version: {torch.version.cuda}\")\n",
    "print(f\"Number of CUDA devices: {torch.cuda.device_count()}\")"
   ]
  },
  {
   "cell_type": "markdown",
   "metadata": {
    "id": "15RmSK3XvnMF"
   },
   "source": [
    "# Dataset"
   ]
  },
  {
   "cell_type": "code",
   "execution_count": 66,
   "metadata": {
    "colab": {
     "base_uri": "https://localhost:8080/"
    },
    "executionInfo": {
     "elapsed": 17113,
     "status": "ok",
     "timestamp": 1740713351870,
     "user": {
      "displayName": "João Bortotti",
      "userId": "09973116309789708241"
     },
     "user_tz": 180
    },
    "id": "PETEb-N0vmpo",
    "outputId": "5eeffe72-d295-47c1-d56a-a6107fdae19c"
   },
   "outputs": [],
   "source": [
    "path = kagglehub.dataset_download(\"bwandowando/reddit-rbrazil-subreddit-dataset\")"
   ]
  },
  {
   "cell_type": "code",
   "execution_count": 67,
   "metadata": {
    "executionInfo": {
     "elapsed": 1682,
     "status": "ok",
     "timestamp": 1740713353548,
     "user": {
      "displayName": "João Bortotti",
      "userId": "09973116309789708241"
     },
     "user_tz": 180
    },
    "id": "_GKio3NwxGuf"
   },
   "outputs": [],
   "source": [
    "comments_dataset = pd.read_csv(path+\"/brasil_subreddit_comments.csv\")"
   ]
  },
  {
   "cell_type": "code",
   "execution_count": 68,
   "metadata": {
    "editable": true,
    "executionInfo": {
     "elapsed": 6,
     "status": "ok",
     "timestamp": 1740713353558,
     "user": {
      "displayName": "João Bortotti",
      "userId": "09973116309789708241"
     },
     "user_tz": 180
    },
    "id": "mzaVc_sOySZK",
    "slideshow": {
     "slide_type": ""
    },
    "tags": []
   },
   "outputs": [],
   "source": [
    "def preprocess_text(text):\n",
    "  if not isinstance(text, str):\n",
    "        return \"\"\n",
    "\n",
    "  text = text.lower()\n",
    "  text = re.sub(r'http\\S+', '', text)\n",
    "  text = re.sub(r'[^\\w\\s]', ' ', text)\n",
    "  text = re.sub(r'\\s+', ' ', text)\n",
    "  text = text.strip()\n",
    "\n",
    "  return text"
   ]
  },
  {
   "cell_type": "code",
   "execution_count": 69,
   "metadata": {
    "executionInfo": {
     "elapsed": 8,
     "status": "ok",
     "timestamp": 1740713353582,
     "user": {
      "displayName": "João Bortotti",
      "userId": "09973116309789708241"
     },
     "user_tz": 180
    },
    "id": "lAIOVloQ1dpH"
   },
   "outputs": [],
   "source": [
    "def build_vocab(tokenized_texts, max_vocab_size, min_count):\n",
    "  word_counts = Counter()\n",
    "  for text in tokenized_texts:\n",
    "      word_counts.update(text)\n",
    "\n",
    "  # print(f\"Total unique words: {len(word_counts)}\")\n",
    "  # print(f\"Most common words: {word_counts.most_common(10)}\")\n",
    "\n",
    "  filtered_words = [word for word, count in word_counts.most_common(max_vocab_size)\n",
    "                     if count >= min_count]\n",
    "\n",
    "  # Add special tokens (padding, unknown)\n",
    "  vocab = ['<pad>', '<unk>'] + filtered_words\n",
    "\n",
    "  word_to_idx = { word: idx for idx, word in enumerate(vocab)}\n",
    "  idx_to_word = { idx: word for word, idx in word_to_idx.items()}\n",
    "\n",
    "  return word_to_idx, idx_to_word, len(vocab)\n"
   ]
  },
  {
   "cell_type": "code",
   "execution_count": 70,
   "metadata": {
    "executionInfo": {
     "elapsed": 17,
     "status": "ok",
     "timestamp": 1740713353604,
     "user": {
      "displayName": "João Bortotti",
      "userId": "09973116309789708241"
     },
     "user_tz": 180
    },
    "id": "QEYg09x62qT4"
   },
   "outputs": [],
   "source": [
    "def encode(text, word_to_idx):\n",
    "  if isinstance(text, str):\n",
    "    tokens = text.lower().split()\n",
    "  else:\n",
    "    tokens = text\n",
    "\n",
    "  indices = [word_to_idx.get(token, word_to_idx['<unk>']) for token in tokens]\n",
    "\n",
    "  return indices\n",
    "\n",
    "def decode(indices, idx_to_word):\n",
    "  words = [idx_to_word[i] for i in indices]\n",
    "  text = ' '.join(words)\n",
    "\n",
    "  return text"
   ]
  },
  {
   "cell_type": "code",
   "execution_count": 71,
   "metadata": {
    "executionInfo": {
     "elapsed": 7,
     "status": "ok",
     "timestamp": 1740713353616,
     "user": {
      "displayName": "João Bortotti",
      "userId": "09973116309789708241"
     },
     "user_tz": 180
    },
    "id": "Y9PGtoTB6d54"
   },
   "outputs": [],
   "source": [
    "def create_context_target_pairs(tokenized_comments, context_size):\n",
    "  pairs = []\n",
    "\n",
    "  for text in tokenized_comments:\n",
    "    if len(text) <= context_size:\n",
    "      continue\n",
    "\n",
    "    for i in range(len(text) - context_size):\n",
    "      context = text[i:i+context_size]\n",
    "      target = text[i+context_size]\n",
    "      pairs.append((context, target))\n",
    "\n",
    "    return pairs"
   ]
  },
  {
   "cell_type": "code",
   "execution_count": 72,
   "metadata": {
    "executionInfo": {
     "elapsed": 16,
     "status": "ok",
     "timestamp": 1740713353636,
     "user": {
      "displayName": "João Bortotti",
      "userId": "09973116309789708241"
     },
     "user_tz": 180
    },
    "id": "DBXeidl47pNv"
   },
   "outputs": [],
   "source": [
    "def prepare_sequence_tensors(pairs, word_to_idx):\n",
    "  context_tensors = []\n",
    "  target_tensors = []\n",
    "\n",
    "  for context, target in pairs:\n",
    "    context_indices = encode(context, word_to_idx)\n",
    "    target_index = word_to_idx.get(target, word_to_idx['<unk>'])\n",
    "\n",
    "    context_tensor = torch.tensor(context_indices)\n",
    "    target_tensor = torch.tensor(target_index)\n",
    "\n",
    "    context_tensors.append(context_tensor)\n",
    "    target_tensors.append(target_tensor)\n",
    "\n",
    "  return context_tensors, target_tensors"
   ]
  },
  {
   "cell_type": "code",
   "execution_count": 74,
   "metadata": {
    "colab": {
     "base_uri": "https://localhost:8080/"
    },
    "executionInfo": {
     "elapsed": 7790,
     "status": "ok",
     "timestamp": 1740718548353,
     "user": {
      "displayName": "João Bortotti",
      "userId": "09973116309789708241"
     },
     "user_tz": 180
    },
    "id": "rPuG90i60qMl",
    "outputId": "ecf99df7-0cdb-45e1-cecc-f9c2bac90b66"
   },
   "outputs": [
    {
     "name": "stdout",
     "output_type": "stream",
     "text": [
      "Preprocessing comments...\n",
      "Tokenizing comments...\n",
      "Building vocab...\n",
      "Vocab size: 20002\n"
     ]
    }
   ],
   "source": [
    "print(\"Preprocessing comments...\")\n",
    "processed_comments = []\n",
    "for comment in comments_dataset['body']:\n",
    "    processed = preprocess_text(comment)\n",
    "    if processed and len(processed.split()) >= 6:  # keep comments with at least X words\n",
    "        processed_comments.append(processed)\n",
    "\n",
    "print(\"Tokenizing comments...\")\n",
    "tokenized_comments = [comment.split() for comment in processed_comments]\n",
    "\n",
    "print(\"Building vocab...\")\n",
    "(word_to_idx, idx_to_word, vocab_size) = build_vocab(tokenized_comments, 20000, 5)\n",
    "\n",
    "print(f\"Vocab size: {vocab_size}\")"
   ]
  },
  {
   "cell_type": "markdown",
   "metadata": {
    "id": "bbJBbfsh14-N",
    "jp-MarkdownHeadingCollapsed": true
   },
   "source": [
    "# Example Embeddings"
   ]
  },
  {
   "cell_type": "code",
   "execution_count": 20,
   "metadata": {
    "colab": {
     "base_uri": "https://localhost:8080/"
    },
    "executionInfo": {
     "elapsed": 33,
     "status": "ok",
     "timestamp": 1740697392270,
     "user": {
      "displayName": "João Bortotti",
      "userId": "09051966837798345966"
     },
     "user_tz": 180
    },
    "id": "bSypRCEppqHH",
    "outputId": "3ccb3c45-00d8-4115-fa4d-88cd9a1b1f70"
   },
   "outputs": [
    {
     "data": {
      "text/plain": [
       "tensor([[ 0.2135,  0.5482,  0.0233],\n",
       "        [-0.1448, -1.3261,  0.3651],\n",
       "        [-1.0038, -1.8411,  1.1925],\n",
       "        [-0.7314, -0.2126, -0.1056],\n",
       "        [ 0.6246, -0.0419,  0.9781]], requires_grad=True)"
      ]
     },
     "execution_count": 20,
     "metadata": {},
     "output_type": "execute_result"
    }
   ],
   "source": [
    "vocab = { \"the\":0, \"cat\":1, \"sat\":2, \"on\":3, \"mat\":4 }\n",
    "embeddings_dim = 3\n",
    "\n",
    "C = torch.randn((len(vocab), embeddings_dim), requires_grad=True)\n",
    "C"
   ]
  },
  {
   "cell_type": "code",
   "execution_count": null,
   "metadata": {
    "colab": {
     "base_uri": "https://localhost:8080/"
    },
    "executionInfo": {
     "elapsed": 17,
     "status": "ok",
     "timestamp": 1740697392285,
     "user": {
      "displayName": "João Bortotti",
      "userId": "09051966837798345966"
     },
     "user_tz": 180
    },
    "id": "8OvlO-gy3G-5",
    "outputId": "e0677c51-2b45-4f67-c78f-25d74ad173ea"
   },
   "outputs": [
    {
     "name": "stdout",
     "output_type": "stream",
     "text": [
      "Embedding for 'cat': tensor([-1.0091, -0.0784,  0.2821], grad_fn=<SelectBackward0>)\n"
     ]
    }
   ],
   "source": [
    "cat_idx = vocab[\"cat\"]\n",
    "cat_embedding = C[cat_idx]\n",
    "print(f\"Embedding for 'cat': {cat_embedding}\")"
   ]
  },
  {
   "cell_type": "code",
   "execution_count": null,
   "metadata": {
    "colab": {
     "base_uri": "https://localhost:8080/"
    },
    "executionInfo": {
     "elapsed": 16,
     "status": "ok",
     "timestamp": 1740697392303,
     "user": {
      "displayName": "João Bortotti",
      "userId": "09051966837798345966"
     },
     "user_tz": 180
    },
    "id": "ZXrXdKFS3NPE",
    "outputId": "bdc0fcde-8116-4029-d14f-ee450e51008e"
   },
   "outputs": [
    {
     "name": "stdout",
     "output_type": "stream",
     "text": [
      "Context embeddings:\n",
      "tensor([[-0.4100, -1.1901,  1.5034],\n",
      "        [-1.0091, -0.0784,  0.2821]], grad_fn=<IndexBackward0>)\n",
      "\n",
      "Concatenated context: tensor([-0.4100, -1.1901,  1.5034, -1.0091, -0.0784,  0.2821],\n",
      "       grad_fn=<ViewBackward0>)\n"
     ]
    }
   ],
   "source": [
    "context = [\"the\", \"cat\"]\n",
    "context_indices = [vocab[word] for word in context]\n",
    "context_embeddings = C[context_indices]\n",
    "print(f\"Context embeddings:\\n{context_embeddings}\\n\")\n",
    "\n",
    "concatenated = context_embeddings.flatten()\n",
    "print(f\"Concatenated context: {concatenated}\")"
   ]
  },
  {
   "cell_type": "code",
   "execution_count": null,
   "metadata": {
    "colab": {
     "base_uri": "https://localhost:8080/",
     "height": 54
    },
    "executionInfo": {
     "elapsed": 331,
     "status": "ok",
     "timestamp": 1740697392636,
     "user": {
      "displayName": "João Bortotti",
      "userId": "09051966837798345966"
     },
     "user_tz": 180
    },
    "id": "Se4K37fYDFDR",
    "outputId": "fa742e06-4984-4e4f-dc0a-d8ba59447988"
   },
   "outputs": [
    {
     "data": {
      "image/png": "[encoded data removed]",
      "text/plain": [
       "<Figure size 1500x700 with 1 Axes>"
      ]
     },
     "metadata": {},
     "output_type": "display_data"
    }
   ],
   "source": [
    "fig = plt.figure(figsize=(15, 7))\n",
    "ax1 = fig.add_subplot(121, projection='3d')\n",
    "\n",
    "for i, word in enumerate(vocab):\n",
    "    x, y, z = C[i].detach().numpy()\n",
    "    ax1.scatter(x, y, z, c=f'C{i}', s=100, label=word)\n",
    "    ax1.text(x, y, z, word, size=12)"
   ]
  },
  {
   "cell_type": "code",
   "execution_count": null,
   "metadata": {
    "colab": {
     "base_uri": "https://localhost:8080/"
    },
    "executionInfo": {
     "elapsed": 22,
     "status": "ok",
     "timestamp": 1740697392644,
     "user": {
      "displayName": "João Bortotti",
      "userId": "09051966837798345966"
     },
     "user_tz": 180
    },
    "id": "ie2E-V6ZEHEe",
    "outputId": "1f146677-f502-4bb3-ecb8-291761cbf8a4"
   },
   "outputs": [
    {
     "name": "stdout",
     "output_type": "stream",
     "text": [
      "hidden weights: tensor([[-0.5352,  1.0479,  1.5666,  1.1766],\n",
      "        [-0.4695,  0.5522,  0.2828,  0.5265],\n",
      "        [-0.3923, -0.8288,  0.5455,  0.3793],\n",
      "        [ 1.0748,  0.0511, -0.4958, -0.1585],\n",
      "        [-1.1306,  1.5274,  0.9896,  0.7776],\n",
      "        [ 0.5082,  1.2520,  0.6349, -0.0573]], requires_grad=True)\n",
      "\n",
      "hidden output: tensor([-0.5810, -0.9733,  0.4161, -0.4269], grad_fn=<TanhBackward0>)\n",
      "\n",
      "output weights: tensor([[ 0.3062, -0.2890,  0.1879, -0.6503,  0.4491],\n",
      "        [-1.8263,  0.0882, -0.0157, -0.7512, -0.3873],\n",
      "        [-0.2409, -1.2876,  1.4123, -1.3063, -1.7207],\n",
      "        [ 0.5714,  1.0349, -0.8485, -1.0028, -1.3223]], requires_grad=True)\n",
      "\n",
      "scores: tensor([ 1.2554, -0.8954,  0.8559,  0.9936, -0.0354], grad_fn=<AddBackward0>)\n",
      "\n",
      "Probability distribution: tensor([0.3531, 0.0411, 0.2368, 0.2718, 0.0971], grad_fn=<SoftmaxBackward0>)\n"
     ]
    }
   ],
   "source": [
    "# forward pass\n",
    "\n",
    "# context embeddings\n",
    "context = [\"the\", \"cat\"]\n",
    "context_indices = [vocab[word] for word in context]\n",
    "context_embeddings = C[context_indices].flatten()\n",
    "\n",
    "# hidden layer\n",
    "hidden_weights = torch.randn((embeddings_dim * 2, 4), requires_grad=True)\n",
    "hidden_bias = torch.zeros(4, requires_grad=True)\n",
    "hidden = torch.tanh(context_embeddings @ hidden_weights + hidden_bias)\n",
    "\n",
    "print(f\"hidden weights: {hidden_weights}\\n\")\n",
    "print(f\"hidden output: {hidden}\\n\")\n",
    "\n",
    "# output layer\n",
    "output_weights = torch.randn((4, len(vocab)), requires_grad=True)\n",
    "output_bias = torch.zeros(len(vocab), requires_grad=True)\n",
    "scores = hidden @ output_weights + output_bias\n",
    "\n",
    "print(f\"output weights: {output_weights}\\n\")\n",
    "print(f\"scores: {scores}\\n\")\n",
    "\n",
    "probabilities = torch.softmax(scores, dim=0)\n",
    "print(f\"Probability distribution: {probabilities}\")"
   ]
  },
  {
   "cell_type": "code",
   "execution_count": null,
   "metadata": {
    "colab": {
     "base_uri": "https://localhost:8080/"
    },
    "executionInfo": {
     "elapsed": 41,
     "status": "ok",
     "timestamp": 1740697392687,
     "user": {
      "displayName": "João Bortotti",
      "userId": "09051966837798345966"
     },
     "user_tz": 180
    },
    "id": "IA8_rhWUFaNB",
    "outputId": "ddaf183f-bd8b-4e3c-cdd0-097505de4056"
   },
   "outputs": [
    {
     "name": "stdout",
     "output_type": "stream",
     "text": [
      "loss: 1.4403505325317383\n"
     ]
    }
   ],
   "source": [
    "# loss\n",
    "next_word = \"sat\"\n",
    "loss = -torch.log(probabilities[vocab[next_word]])\n",
    "print(f\"loss: {loss.item()}\")\n",
    "\n",
    "loss.backward()"
   ]
  },
  {
   "cell_type": "code",
   "execution_count": null,
   "metadata": {
    "id": "RzD6I_k2uVUz"
   },
   "outputs": [],
   "source": [
    "# optimization\n",
    "\n",
    "learning_rate = 0.1\n",
    "\n",
    "with torch.no_grad():\n",
    "  C -= learning_rate * C.grad\n",
    "  hidden_weights -= learning_rate * hidden_weights.grad\n",
    "  hidden_bias -= learning_rate * hidden_bias.grad\n",
    "  output_weights -= learning_rate * output_weights.grad\n",
    "  output_bias -= learning_rate * output_bias.grad\n",
    "\n",
    "  C.grad.zero_()\n",
    "  hidden_weights.grad.zero_()\n",
    "  hidden_bias.grad.zero_()\n",
    "  output_weights.grad.zero_()\n",
    "  output_bias.grad.zero_()"
   ]
  },
  {
   "cell_type": "markdown",
   "metadata": {
    "id": "Y4yAh_-A4lrB",
    "jp-MarkdownHeadingCollapsed": true
   },
   "source": [
    "# Embeddings with real dataset"
   ]
  },
  {
   "cell_type": "code",
   "execution_count": 13,
   "metadata": {
    "executionInfo": {
     "elapsed": 5,
     "status": "ok",
     "timestamp": 1740718555726,
     "user": {
      "displayName": "João Bortotti",
      "userId": "09973116309789708241"
     },
     "user_tz": 180
    },
    "id": "C0x88iyA4sW9"
   },
   "outputs": [],
   "source": [
    "def create_embeddings_tensor(vocab_size, dim):\n",
    "  embeddings = torch.randn(vocab_size, dim)\n",
    "  embeddings[0] = torch.zeros(dim)\n",
    "\n",
    "  return embeddings"
   ]
  },
  {
   "cell_type": "code",
   "execution_count": 14,
   "metadata": {
    "colab": {
     "base_uri": "https://localhost:8080/"
    },
    "executionInfo": {
     "elapsed": 31,
     "status": "ok",
     "timestamp": 1740718555767,
     "user": {
      "displayName": "João Bortotti",
      "userId": "09973116309789708241"
     },
     "user_tz": 180
    },
    "id": "oRPrxVQJ4qjn",
    "outputId": "b766a164-eeb6-43a6-90ee-ac92335ee5fe"
   },
   "outputs": [
    {
     "name": "stdout",
     "output_type": "stream",
     "text": [
      "Created embeddings with dimension 50, shape: torch.Size([20002, 50])\n",
      "Created embeddings with dimension 100, shape: torch.Size([20002, 100])\n",
      "Created embeddings with dimension 200, shape: torch.Size([20002, 200])\n"
     ]
    }
   ],
   "source": [
    "embedding_dims = [50, 100, 200]\n",
    "embeddings = {}\n",
    "\n",
    "for test_dim in embedding_dims:\n",
    "  embeddings[test_dim] = create_embeddings_tensor(vocab_size, test_dim)\n",
    "  print(f\"Created embeddings with dimension {test_dim}, shape: {embeddings[test_dim].shape}\")"
   ]
  },
  {
   "cell_type": "markdown",
   "metadata": {
    "id": "ke9jcli2AsMf"
   },
   "source": [
    "# Model"
   ]
  },
  {
   "cell_type": "code",
   "execution_count": 75,
   "metadata": {
    "executionInfo": {
     "elapsed": 34,
     "status": "ok",
     "timestamp": 1740718557087,
     "user": {
      "displayName": "João Bortotti",
      "userId": "09973116309789708241"
     },
     "user_tz": 180
    },
    "id": "mt5KuSXYA0e-"
   },
   "outputs": [],
   "source": [
    "class LanguageModel(nn.Module):\n",
    "  def __init__(self, vocab_size, embedding_dim, context_size, hidden_dim):\n",
    "    super(LanguageModel, self).__init__()\n",
    "\n",
    "    # C\n",
    "    self.embeddings = nn.Embedding(vocab_size, embedding_dim)\n",
    "    self.embeddings.weight.data.uniform_(-0.1, 0.1)\n",
    "\n",
    "    # H\n",
    "    self.hidden = nn.Linear(context_size * embedding_dim, hidden_dim)\n",
    "    nn.init.xavier_uniform_(self.hidden.weight, gain=0.1)\n",
    "    self.hidden.bias.data.zero_()\n",
    "\n",
    "    # (U, W and b)\n",
    "    self.output = nn.Linear(hidden_dim, vocab_size)\n",
    "    nn.init.xavier_uniform_(self.output.weight, gain=0.1)\n",
    "    self.output.bias.data.zero_()\n",
    "\n",
    "    self.context_size = context_size\n",
    "    self.embedding_dim = embedding_dim\n",
    "\n",
    "  def forward(self, contexts):\n",
    "    embeds = self.embeddings(contexts)          # (batch_size, context_size, embedding_dim)\n",
    "    embeds = embeds.view(embeds.shape[0], -1)   # (batch_size, context_size * embedding_dim)\n",
    "\n",
    "    hidden = torch.tanh(self.hidden(embeds))    # (batch_size, hidden_dim)\n",
    "\n",
    "    scores = self.output(hidden)                # (batch_size, vocab_size)\n",
    "\n",
    "    log_probs = torch.log_softmax(scores, dim=1)\n",
    "\n",
    "    return log_probs\n",
    "\n",
    "  def get_embeddings(self):\n",
    "    return self.embeddings"
   ]
  },
  {
   "cell_type": "code",
   "execution_count": 76,
   "metadata": {
    "executionInfo": {
     "elapsed": 20,
     "status": "ok",
     "timestamp": 1740718557104,
     "user": {
      "displayName": "João Bortotti",
      "userId": "09973116309789708241"
     },
     "user_tz": 180
    },
    "id": "uHS07b5CaFrj"
   },
   "outputs": [],
   "source": [
    "class RedditDataset(Dataset):\n",
    "  def __init__(self, tokenized_comments, word_to_idx, context_size):\n",
    "    self.word_to_idx = word_to_idx\n",
    "    self.context_size = context_size\n",
    "    self.data = []\n",
    "\n",
    "    for text in tokenized_comments:\n",
    "      if len(text) <= context_size:\n",
    "        continue\n",
    "\n",
    "      for i in range(len(text) - context_size):\n",
    "        context = text[i:i+context_size]\n",
    "        target = text[i+context_size]\n",
    "\n",
    "        context_indices = [self.word_to_idx.get(w, self.word_to_idx['<unk>'])\n",
    "                            for w in context]\n",
    "        target_index = self.word_to_idx.get(target, self.word_to_idx['<unk>'])\n",
    "\n",
    "        self.data.append((context_indices, target_index))\n",
    "\n",
    "  def __len__(self):\n",
    "    return len(self.data)\n",
    "\n",
    "  def __getitem__(self, idx):\n",
    "    context, target = self.data[idx]\n",
    "    return torch.tensor(context), torch.tensor(target)"
   ]
  },
  {
   "cell_type": "code",
   "execution_count": 77,
   "metadata": {
    "executionInfo": {
     "elapsed": 6,
     "status": "ok",
     "timestamp": 1740718557114,
     "user": {
      "displayName": "João Bortotti",
      "userId": "09973116309789708241"
     },
     "user_tz": 180
    },
    "id": "Lo_DtINSc4cJ"
   },
   "outputs": [],
   "source": [
    "def train_model(model, train_loader, val_loader, criterion, optimizer, epochs=5, device='cpu',\n",
    "                scheduler=None, early_stopping_patience=3):\n",
    "\n",
    "  model = model.to(device)\n",
    "\n",
    "  history = {\n",
    "    'train_loss': [],\n",
    "    'val_loss': [],\n",
    "    'train_perplexity': [],\n",
    "    'val_perplexity': [],\n",
    "    'best_val_loss': float('inf'),\n",
    "    'best_epoch': 0\n",
    "  }\n",
    "\n",
    "  patience_counter = 0\n",
    "\n",
    "  start_time = time.time()\n",
    "\n",
    "  for epoch in range(epochs):\n",
    "    epoch_start = time.time()\n",
    "\n",
    "    # training\n",
    "    model.train()\n",
    "    train_loss = 0.0\n",
    "    train_examples = 0\n",
    "\n",
    "    train_pbar = tqdm(train_loader, desc=f\"Epoch {epoch+1}/{epochs} [Train]\")\n",
    "\n",
    "    for contexts, targets in train_pbar:\n",
    "      contexts, targets = contexts.to(device), targets.to(device)\n",
    "\n",
    "      optimizer.zero_grad()\n",
    "\n",
    "      log_probs = model(contexts)\n",
    "\n",
    "      loss = criterion(log_probs, targets)\n",
    "      loss.backward()\n",
    "\n",
    "      optimizer.step()\n",
    "\n",
    "      batch_loss = loss.item() * contexts.size(0)\n",
    "      train_loss += batch_loss\n",
    "      train_examples += contexts.size(0)\n",
    "\n",
    "      train_pbar.set_postfix({'loss': batch_loss / contexts.size(0)})\n",
    "\n",
    "    avg_train_loss = train_loss / train_examples\n",
    "    train_perplexity = np.exp(avg_train_loss)\n",
    "\n",
    "    # validation\n",
    "    model.eval()\n",
    "    val_loss = 0.0\n",
    "    val_examples = 0\n",
    "\n",
    "    val_pbar = tqdm(val_loader, desc=f\"Epoch {epoch+1}/{epochs} [Val]\")\n",
    "\n",
    "    with torch.no_grad():\n",
    "      for contexts, targets in val_pbar:\n",
    "        contexts, targets = contexts.to(device), targets.to(device)\n",
    "\n",
    "        log_probs = model(contexts)\n",
    "\n",
    "        loss = criterion(log_probs, targets)\n",
    "\n",
    "        batch_loss = loss.item() * contexts.size(0)\n",
    "        val_loss += batch_loss\n",
    "        val_examples += contexts.size(0)\n",
    "\n",
    "        val_pbar.set_postfix({'loss': batch_loss / contexts.size(0)})\n",
    "\n",
    "      avg_val_loss = val_loss / val_examples\n",
    "      val_perplexity = np.exp(avg_val_loss)\n",
    "\n",
    "      if scheduler is not None:\n",
    "        scheduler.step(avg_val_loss)\n",
    "\n",
    "      history['train_loss'].append(avg_train_loss)\n",
    "      history['val_loss'].append(avg_val_loss)\n",
    "      history['train_perplexity'].append(train_perplexity)\n",
    "      history['val_perplexity'].append(val_perplexity)\n",
    "\n",
    "      if avg_val_loss < history['best_val_loss']:\n",
    "            history['best_val_loss'] = avg_val_loss\n",
    "            history['best_epoch'] = epoch\n",
    "            # save the best model\n",
    "            torch.save(model.state_dict(), 'best_bengio_model.pt')\n",
    "            patience_counter = 0\n",
    "      else:\n",
    "          patience_counter += 1\n",
    "\n",
    "      epoch_time = time.time() - epoch_start\n",
    "\n",
    "\n",
    "      print(f\"Epoch {epoch+1}/{epochs} - \"\n",
    "            f\"Time: {epoch_time:.2f}s - \"\n",
    "            f\"Train Loss: {avg_train_loss:.4f} - \"\n",
    "            f\"Train PPL: {train_perplexity:.2f} - \"\n",
    "            f\"Val Loss: {avg_val_loss:.4f} - \"\n",
    "            f\"Val PPL: {val_perplexity:.2f}\")\n",
    "\n",
    "      if patience_counter >= early_stopping_patience:\n",
    "            print(f\"Early stopping after epoch {epoch+1}\")\n",
    "            break\n",
    "\n",
    "  total_time = time.time() - start_time\n",
    "  print(f\"Total training time: {total_time:.2f} seconds\")\n",
    "\n",
    "  model.load_state_dict(torch.load('best_bengio_model.pt'))\n",
    "\n",
    "  return model, history"
   ]
  },
  {
   "cell_type": "code",
   "execution_count": 78,
   "metadata": {
    "executionInfo": {
     "elapsed": 5,
     "status": "ok",
     "timestamp": 1740718557123,
     "user": {
      "displayName": "João Bortotti",
      "userId": "09973116309789708241"
     },
     "user_tz": 180
    },
    "id": "jEXhp_BRjDBg"
   },
   "outputs": [],
   "source": [
    "def inference(model, context, word_to_idx, idx_to_word, temperature=1.0, max_length=20, device='cpu'):\n",
    "  model.eval()\n",
    "  model = model.to(device)\n",
    "\n",
    "  if len(context) != model.context_size:\n",
    "    raise ValueError(f\"Context must have exactly {model.context_size} words\")\n",
    "\n",
    "  generated = list(context)\n",
    "\n",
    "  with torch.no_grad():\n",
    "    for _ in range(max_length):\n",
    "      context_indices = [word_to_idx.get(w, word_to_idx['<unk>']) for w in context]\n",
    "      context_tensor = torch.tensor([context_indices], dtype=torch.long).to(device)\n",
    "\n",
    "      log_probs = model(context_tensor)\n",
    "      probs = torch.exp(log_probs / temperature).squeeze()\n",
    "\n",
    "      next_word_idx = torch.multinomial(probs, 1).item()\n",
    "      next_word = idx_to_word[next_word_idx]\n",
    "\n",
    "      generated.append(next_word)\n",
    "\n",
    "      context = context[1:] + [next_word]\n",
    "\n",
    "  return ' '.join(generated)"
   ]
  },
  {
   "cell_type": "code",
   "execution_count": 79,
   "metadata": {
    "executionInfo": {
     "elapsed": 5,
     "status": "ok",
     "timestamp": 1740718557140,
     "user": {
      "displayName": "João Bortotti",
      "userId": "09973116309789708241"
     },
     "user_tz": 180
    },
    "id": "qYmUTEuXl6VS"
   },
   "outputs": [],
   "source": [
    "def visualize_embeddings_2d(model, word_to_idx, idx_to_word, num_words=100, filter_words=None):\n",
    "    embeddings = model.get_embeddings().cpu().weight.detach().numpy()\n",
    "\n",
    "    if filter_words and len(filter_words) > 0:\n",
    "        # Create word_to_idx mapping (reverse of idx_to_word)\n",
    "        word_to_idx = {word: idx for idx, word in idx_to_word.items()}\n",
    "\n",
    "        # Find indices of filter words\n",
    "        words_to_plot = []\n",
    "        for word in filter_words:\n",
    "            if word in word_to_idx:\n",
    "                words_to_plot.append(word_to_idx[word])\n",
    "            else:\n",
    "                print(f\"Warning: '{word}' not found in vocabulary\")\n",
    "\n",
    "        if not words_to_plot:\n",
    "            print(\"None of the filter words were found in vocabulary. Using default behavior.\")\n",
    "            words_to_plot = list(range(2, 2 + num_words))  # Default: Skip <pad> and <unk>\n",
    "    else:\n",
    "        # Default behavior: top N frequent words\n",
    "        words_to_plot = list(range(2, 2 + num_words))  # Skip <pad> and <unk>\n",
    "\n",
    "\n",
    "    # apply PCA\n",
    "    pca = PCA(n_components=2)\n",
    "    embeddings_2d = pca.fit_transform(embeddings[words_to_plot])\n",
    "\n",
    "    # Plot\n",
    "    plt.figure(figsize=(15, 12))\n",
    "    plt.scatter(embeddings_2d[:, 0], embeddings_2d[:, 1], alpha=0.7)\n",
    "\n",
    "    # add word labels\n",
    "    for i, idx in enumerate(words_to_plot):\n",
    "        plt.annotate(idx_to_word[idx],\n",
    "                   xy=(embeddings_2d[i, 0], embeddings_2d[i, 1]),\n",
    "                   xytext=(5, 2),\n",
    "                   textcoords='offset points',\n",
    "                   fontsize=9)\n",
    "\n",
    "    plt.title(f'PCA visualization of {num_words} word embeddings')\n",
    "    plt.xlabel('PC1')\n",
    "    plt.ylabel('PC2')\n",
    "    plt.grid(True, linestyle='--', alpha=0.7)\n",
    "    plt.savefig('word_embeddings_2d.png')\n",
    "    plt.tight_layout()\n",
    "    plt.show()"
   ]
  },
  {
   "cell_type": "markdown",
   "metadata": {
    "id": "wXGJdbG3lHRX"
   },
   "source": [
    "# Tests"
   ]
  },
  {
   "cell_type": "code",
   "execution_count": 80,
   "metadata": {
    "colab": {
     "base_uri": "https://localhost:8080/"
    },
    "executionInfo": {
     "elapsed": 14482,
     "status": "ok",
     "timestamp": 1740718573824,
     "user": {
      "displayName": "João Bortotti",
      "userId": "09973116309789708241"
     },
     "user_tz": 180
    },
    "id": "DpvPsI6EezxQ",
    "outputId": "ea3d272e-df74-4ab1-9060-d90366eb0b35"
   },
   "outputs": [
    {
     "name": "stdout",
     "output_type": "stream",
     "text": [
      "Using device: cuda\n",
      "\n",
      "Training samples: 5454810\n",
      "\n",
      "Validation samples: 606090\n",
      "\n",
      "LanguageModel(\n",
      "  (embeddings): Embedding(20002, 100)\n",
      "  (hidden): Linear(in_features=400, out_features=128, bias=True)\n",
      "  (output): Linear(in_features=128, out_features=20002, bias=True)\n",
      ")\n"
     ]
    }
   ],
   "source": [
    "# set device\n",
    "# device = torch.device('cuda' if torch.cuda.is_available() else 'cpu')\n",
    "device = 'cuda'\n",
    "print(f\"Using device: {device}\\n\")\n",
    "\n",
    "# define hyperparameters\n",
    "context_size = 4\n",
    "embedding_dim = 100\n",
    "hidden_dim = 128\n",
    "batch_size = 64\n",
    "learning_rate = 0.0005\n",
    "weight_decay = 0.0001\n",
    "epochs = 25\n",
    "\n",
    "# loading dataset\n",
    "dataset = RedditDataset(tokenized_comments, word_to_idx, context_size)\n",
    "\n",
    "train_size = int(0.9 * len(dataset))\n",
    "val_size = len(dataset) - train_size\n",
    "train_dataset, val_dataset = torch.utils.data.random_split(dataset, [train_size, val_size])\n",
    "\n",
    "print(f\"Training samples: {len(train_dataset)}\\n\")\n",
    "print(f\"Validation samples: {len(val_dataset)}\\n\")\n",
    "\n",
    "train_loader = DataLoader(train_dataset, batch_size=batch_size, shuffle=True)\n",
    "val_loader = DataLoader(val_dataset, batch_size=batch_size, shuffle=False)\n",
    "\n",
    "# creating model\n",
    "model = LanguageModel(vocab_size, embedding_dim, context_size, hidden_dim)\n",
    "print(model)"
   ]
  },
  {
   "cell_type": "code",
   "execution_count": 81,
   "metadata": {
    "executionInfo": {
     "elapsed": 29,
     "status": "ok",
     "timestamp": 1740718583807,
     "user": {
      "displayName": "João Bortotti",
      "userId": "09973116309789708241"
     },
     "user_tz": 180
    },
    "id": "9NnzpKPBf8WL"
   },
   "outputs": [],
   "source": [
    "criterion = nn.NLLLoss()\n",
    "optimizer = optim.Adam(model.parameters(), lr=learning_rate, weight_decay=weight_decay)\n",
    "scheduler = optim.lr_scheduler.ReduceLROnPlateau(optimizer, mode='min', factor=0.5, patience=2)"
   ]
  },
  {
   "cell_type": "code",
   "execution_count": null,
   "metadata": {
    "colab": {
     "base_uri": "https://localhost:8080/",
     "height": 367
    },
    "executionInfo": {
     "elapsed": 244187,
     "status": "error",
     "timestamp": 1740718829192,
     "user": {
      "displayName": "João Bortotti",
      "userId": "09973116309789708241"
     },
     "user_tz": 180
    },
    "id": "GyIN3UaGgcmB",
    "outputId": "4a10e34f-ebcb-4a11-db2c-dd954f6d1e78"
   },
   "outputs": [],
   "source": [
    "# train model\n",
    "model, history = train_model(\n",
    "    model, train_loader, val_loader, criterion, optimizer,\n",
    "    epochs=epochs, device=device, scheduler=scheduler\n",
    ")"
   ]
  },
  {
   "cell_type": "code",
   "execution_count": 83,
   "metadata": {},
   "outputs": [
    {
     "name": "stdout",
     "output_type": "stream",
     "text": [
      "model training history: {'train_loss': [6.049589132073821, 5.851193979304885, 5.821598226534405, 5.808559436826559, 5.801225941748875, 5.796433659893399, 5.79296351372604, 5.789807663279333, 5.7873165101425315, 5.78528409452419, 5.783556710198921, 5.782122541450854, 5.781470991155613, 5.780393486251315, 5.779878383786767, 5.77916124839856], 'val_loss': [5.877145092976178, 5.830535290199505, 5.810856502166148, 5.803899745530168, 5.798315400623634, 5.79262112100272, 5.792071757094492, 5.788289878685789, 5.787047210451924, 5.783823214224131, 5.781086841293038, 5.78137616267188, 5.778805491878222, 5.779239086342522, 5.78006589273475, 5.7792770627146455], 'train_perplexity': [423.9388113965226, 347.6492187478424, 337.51104190548824, 333.1388722489175, 330.7047362403205, 329.123697351146, 327.9835693636889, 326.95013381152364, 326.13666461895514, 325.47449250048453, 324.91275826899533, 324.4471125323326, 324.23578777220297, 323.88661027474575, 323.7198184446884, 323.48775072894915], 'val_perplexity': [356.7891863659208, 340.5409185081128, 333.9049935841424, 331.5901590104395, 329.7436058883871, 327.87128939918875, 327.6912182130826, 326.45427033772984, 326.04884794111024, 324.99936036630726, 324.1112565597438, 324.2050424418661, 323.3726883206925, 323.5129313303533, 323.78052449857245, 323.52521741110917], 'best_val_loss': 5.778805491878222, 'best_epoch': 12}\n",
      "\n"
     ]
    }
   ],
   "source": [
    "print(f'model training history: {history}\\n')"
   ]
  },
  {
   "cell_type": "code",
   "execution_count": 58,
   "metadata": {},
   "outputs": [],
   "source": [
    "# load model from file\n",
    "# model.load_state_dict(torch.load('best_bengio_model.pt', weights_only=True))\n",
    "# model.eval()\n",
    "# model"
   ]
  },
  {
   "cell_type": "code",
   "execution_count": 128,
   "metadata": {
    "colab": {
     "base_uri": "https://localhost:8080/",
     "height": 35
    },
    "executionInfo": {
     "elapsed": 19,
     "status": "ok",
     "timestamp": 1740718412075,
     "user": {
      "displayName": "João Bortotti",
      "userId": "09973116309789708241"
     },
     "user_tz": 180
    },
    "id": "PjrgZ_IXj3vN",
    "outputId": "4af535d2-7c61-458e-d10e-3e7374cd47f5"
   },
   "outputs": [
    {
     "data": {
      "text/plain": [
       "'uma dica de investimentos lá e gastos muito dos estados humano central do banco em capitalismo'"
      ]
     },
     "execution_count": 128,
     "metadata": {},
     "output_type": "execute_result"
    }
   ],
   "source": [
    "inference(model, ['uma', 'dica', 'de', 'investimentos'], word_to_idx, idx_to_word, device=device, max_length=12)"
   ]
  },
  {
   "cell_type": "code",
   "execution_count": 114,
   "metadata": {
    "colab": {
     "base_uri": "https://localhost:8080/",
     "height": 35
    },
    "executionInfo": {
     "elapsed": 76,
     "status": "ok",
     "timestamp": 1740718385030,
     "user": {
      "displayName": "João Bortotti",
      "userId": "09973116309789708241"
     },
     "user_tz": 180
    },
    "id": "nbxbMLPflO9o",
    "outputId": "bee1e8e5-0312-4328-d82d-b917698abf0e"
   },
   "outputs": [
    {
     "data": {
      "text/plain": [
       "'o brasil é um constitucional cursos interpretar residencial num respeita sqn normativa internacional sei'"
      ]
     },
     "execution_count": 114,
     "metadata": {},
     "output_type": "execute_result"
    }
   ],
   "source": [
    "untrained_model = LanguageModel(vocab_size, embedding_dim, context_size, hidden_dim)\n",
    "\n",
    "inference(untrained_model, ['o', 'brasil', 'é', 'um'], word_to_idx, idx_to_word, device=device, max_length=10)"
   ]
  },
  {
   "cell_type": "code",
   "execution_count": 135,
   "metadata": {
    "colab": {
     "base_uri": "https://localhost:8080/",
     "height": 808
    },
    "executionInfo": {
     "elapsed": 1103,
     "status": "ok",
     "timestamp": 1740718513405,
     "user": {
      "displayName": "João Bortotti",
      "userId": "09973116309789708241"
     },
     "user_tz": 180
    },
    "id": "3T9vpypFm7Jm",
    "outputId": "e2220e30-83b8-4211-9082-9f6e07285060"
   },
   "outputs": [
    {
     "data": {
      "image/png": "[encoded data removed]",
      "text/plain": [
       "<Figure size 1500x1200 with 1 Axes>"
      ]
     },
     "metadata": {},
     "output_type": "display_data"
    }
   ],
   "source": [
    "visualize_embeddings_2d(untrained_model, word_to_idx, idx_to_word, filter_words=['brasil', 'pais', 'comida', 'portugal'])"
   ]
  },
  {
   "cell_type": "code",
   "execution_count": 136,
   "metadata": {
    "colab": {
     "base_uri": "https://localhost:8080/",
     "height": 809
    },
    "executionInfo": {
     "elapsed": 800,
     "status": "ok",
     "timestamp": 1740718507161,
     "user": {
      "displayName": "João Bortotti",
      "userId": "09973116309789708241"
     },
     "user_tz": 180
    },
    "id": "xcP8YAD0mBP5",
    "outputId": "bc8aebe4-483a-4a9e-c621-420d57c657f4"
   },
   "outputs": [
    {
     "data": {
      "image/png": "[encoded data removed]",
      "text/plain": [
       "<Figure size 1500x1200 with 1 Axes>"
      ]
     },
     "metadata": {},
     "output_type": "display_data"
    }
   ],
   "source": [
    "visualize_embeddings_2d(model, word_to_idx, idx_to_word, filter_words=['brasil', 'pais', 'comida', 'portugal'])"
   ]
  },
  {
   "cell_type": "code",
   "execution_count": null,
   "metadata": {},
   "outputs": [],
   "source": []
  }
 ],
 "metadata": {
  "accelerator": "GPU",
  "colab": {
   "collapsed_sections": [
    "bbJBbfsh14-N",
    "Y4yAh_-A4lrB",
    "ke9jcli2AsMf"
   ],
   "gpuType": "T4",
   "provenance": []
  },
  "kernelspec": {
   "display_name": "Python 3 (ipykernel)",
   "language": "python",
   "name": "python3"
  },
  "language_info": {
   "codemirror_mode": {
    "name": "ipython",
    "version": 3
   },
   "file_extension": ".py",
   "mimetype": "text/x-python",
   "name": "python",
   "nbconvert_exporter": "python",
   "pygments_lexer": "ipython3",
   "version": "3.9.5"
  }
 },
 "nbformat": 4,
 "nbformat_minor": 4
}
