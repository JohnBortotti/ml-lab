{
 "cells": [
  {
   "cell_type": "code",
   "execution_count": null,
   "id": "31a10dd7-f865-4a1b-a23b-bca7cb97bb02",
   "metadata": {},
   "outputs": [],
   "source": [
    "!pip install datasets"
   ]
  },
  {
   "cell_type": "code",
   "execution_count": null,
   "id": "22e98f8e-07e1-4097-9b94-5d372cbb3703",
   "metadata": {},
   "outputs": [],
   "source": [
    "!pip install transformers[torch]"
   ]
  },
  {
   "cell_type": "code",
   "execution_count": null,
   "id": "54c6fece-54d2-4ea2-ab39-615bc0191048",
   "metadata": {},
   "outputs": [],
   "source": [
    "!pip install accelerate==0.28.0"
   ]
  },
  {
   "cell_type": "code",
   "execution_count": 4,
   "id": "012088dc-8514-441b-9c2c-43e9738e848b",
   "metadata": {},
   "outputs": [],
   "source": [
    "from transformers import AutoTokenizer, AutoModelForTokenClassification, Trainer, TrainingArguments\n",
    "import torch\n",
    "from datasets import load_dataset"
   ]
  },
  {
   "cell_type": "code",
   "execution_count": 11,
   "id": "6ecb3d78-b03e-49bb-9a72-3c0d5c85b1a8",
   "metadata": {},
   "outputs": [],
   "source": [
    "device = 'cuda'"
   ]
  },
  {
   "cell_type": "code",
   "execution_count": 5,
   "id": "33e65c92-71bd-4e5c-b14d-f974303435f5",
   "metadata": {},
   "outputs": [
    {
     "name": "stderr",
     "output_type": "stream",
     "text": [
      "c:\\users\\joao_\\miniconda3\\lib\\site-packages\\huggingface_hub\\file_download.py:797: FutureWarning: `resume_download` is deprecated and will be removed in version 1.0.0. Downloads always resume when possible. If you want to force a new download, use `force_download=True`.\n",
      "  warnings.warn(\n",
      "Some weights of DistilBertForTokenClassification were not initialized from the model checkpoint at distilbert-base-uncased and are newly initialized: ['classifier.bias', 'classifier.weight']\n",
      "You should probably TRAIN this model on a down-stream task to be able to use it for predictions and inference.\n"
     ]
    }
   ],
   "source": [
    "tokenizer = AutoTokenizer.from_pretrained(\"bert-base-cased\")\n",
    "model = AutoModelForTokenClassification.from_pretrained(\n",
    "    \"distilbert-base-uncased\", num_labels=9\n",
    ")"
   ]
  },
  {
   "cell_type": "code",
   "execution_count": 6,
   "id": "8bf8ca7c-eaeb-4ec3-9edc-ba8d036a1580",
   "metadata": {},
   "outputs": [],
   "source": [
    "datasets = load_dataset(\"conll2003\", trust_remote_code=True)"
   ]
  },
  {
   "cell_type": "code",
   "execution_count": 13,
   "id": "21df1266-9a23-458e-b1b7-44c878370d35",
   "metadata": {},
   "outputs": [],
   "source": [
    "def tokenize_and_align_labels(examples):\n",
    "    tokenized_inputs = tokenizer(\n",
    "        examples[\"tokens\"], \n",
    "        truncation=True,\n",
    "        padding=\"max_length\",\n",
    "        max_length=128,\n",
    "        is_split_into_words=True\n",
    "    )\n",
    "    labels = []\n",
    "    \n",
    "    for i, label in enumerate(examples[\"ner_tags\"]):\n",
    "        word_ids = tokenized_inputs.word_ids(batch_index=i)\n",
    "        previous_word_idx = None\n",
    "        label_ids = []\n",
    "        \n",
    "        for word_idx in word_ids:\n",
    "            if word_idx is None:\n",
    "                label_ids.append(-100)  # Special token\n",
    "            elif word_idx != previous_word_idx:\n",
    "                label_ids.append(label[word_idx])  # First subword\n",
    "            else:\n",
    "                label_ids.append(-100)  # Other subwords\n",
    "            previous_word_idx = word_idx\n",
    "            \n",
    "        labels.append(label_ids)\n",
    "        \n",
    "    tokenized_inputs[\"labels\"] = labels\n",
    "    return tokenized_inputs"
   ]
  },
  {
   "cell_type": "code",
   "execution_count": 14,
   "id": "f6f7cfe9-3bc8-4d2c-b83a-161b063103a7",
   "metadata": {},
   "outputs": [
    {
     "data": {
      "application/vnd.jupyter.widget-view+json": {
       "model_id": "71f80bddbe7f4c5d8788bccc2d3e875e",
       "version_major": 2,
       "version_minor": 0
      },
      "text/plain": [
       "Map:   0%|          | 0/14041 [00:00<?, ? examples/s]"
      ]
     },
     "metadata": {},
     "output_type": "display_data"
    },
    {
     "data": {
      "application/vnd.jupyter.widget-view+json": {
       "model_id": "4696ce4d746c446c9c806b291d24fbb4",
       "version_major": 2,
       "version_minor": 0
      },
      "text/plain": [
       "Map:   0%|          | 0/3250 [00:00<?, ? examples/s]"
      ]
     },
     "metadata": {},
     "output_type": "display_data"
    },
    {
     "data": {
      "application/vnd.jupyter.widget-view+json": {
       "model_id": "fe7eadf10c654231a68b9f0e807193eb",
       "version_major": 2,
       "version_minor": 0
      },
      "text/plain": [
       "Map:   0%|          | 0/3453 [00:00<?, ? examples/s]"
      ]
     },
     "metadata": {},
     "output_type": "display_data"
    }
   ],
   "source": [
    "tokenized_datasets = datasets.map(\n",
    "    tokenize_and_align_labels, batched=True\n",
    ")"
   ]
  },
  {
   "cell_type": "code",
   "execution_count": 15,
   "id": "3c773663-c5ec-4469-89ec-2fea19c74853",
   "metadata": {},
   "outputs": [],
   "source": [
    "training_args = TrainingArguments(\n",
    "    output_dir=\"./ner-model\",\n",
    "    evaluation_strategy=\"epoch\",\n",
    "    learning_rate=2e-5,\n",
    "    per_device_train_batch_size=16,\n",
    "    per_device_eval_batch_size=16,\n",
    "    num_train_epochs=3,\n",
    "    weight_decay=0.01,\n",
    ")"
   ]
  },
  {
   "cell_type": "code",
   "execution_count": 16,
   "id": "d1f67e90-3c34-472f-b23f-0bedf90bdd6a",
   "metadata": {},
   "outputs": [],
   "source": [
    "trainer = Trainer(\n",
    "    model=model,\n",
    "    args=training_args,\n",
    "    train_dataset=tokenized_datasets[\"train\"],\n",
    "    eval_dataset=tokenized_datasets[\"validation\"],\n",
    "    tokenizer=tokenizer,\n",
    ")"
   ]
  },
  {
   "cell_type": "code",
   "execution_count": 17,
   "id": "6ca7f6e0-6e3a-4ed3-8b5e-cd9e6f18ad21",
   "metadata": {},
   "outputs": [
    {
     "data": {
      "text/html": [
       "\n",
       "    <div>\n",
       "      \n",
       "      <progress value='2634' max='2634' style='width:300px; height:20px; vertical-align: middle;'></progress>\n",
       "      [2634/2634 05:33, Epoch 3/3]\n",
       "    </div>\n",
       "    <table border=\"1\" class=\"dataframe\">\n",
       "  <thead>\n",
       " <tr style=\"text-align: left;\">\n",
       "      <th>Epoch</th>\n",
       "      <th>Training Loss</th>\n",
       "      <th>Validation Loss</th>\n",
       "    </tr>\n",
       "  </thead>\n",
       "  <tbody>\n",
       "    <tr>\n",
       "      <td>1</td>\n",
       "      <td>0.551200</td>\n",
       "      <td>0.318035</td>\n",
       "    </tr>\n",
       "    <tr>\n",
       "      <td>2</td>\n",
       "      <td>0.249400</td>\n",
       "      <td>0.236161</td>\n",
       "    </tr>\n",
       "    <tr>\n",
       "      <td>3</td>\n",
       "      <td>0.175700</td>\n",
       "      <td>0.217799</td>\n",
       "    </tr>\n",
       "  </tbody>\n",
       "</table><p>"
      ],
      "text/plain": [
       "<IPython.core.display.HTML object>"
      ]
     },
     "metadata": {},
     "output_type": "display_data"
    },
    {
     "data": {
      "text/plain": [
       "TrainOutput(global_step=2634, training_loss=0.2963402638764841, metrics={'train_runtime': 333.7579, 'train_samples_per_second': 126.208, 'train_steps_per_second': 7.892, 'total_flos': 1376049275709696.0, 'train_loss': 0.2963402638764841, 'epoch': 3.0})"
      ]
     },
     "execution_count": 17,
     "metadata": {},
     "output_type": "execute_result"
    }
   ],
   "source": [
    "trainer.train()"
   ]
  },
  {
   "cell_type": "code",
   "execution_count": 39,
   "id": "096e1da8-df73-4d05-9843-40356e40fa21",
   "metadata": {},
   "outputs": [],
   "source": [
    "def predict_entities(text, model, tokenizer, id2label, label_map):\n",
    "    tokens = tokenizer.tokenize(tokenizer.decode(tokenizer.encode(text)))\n",
    "    input_ids = tokenizer.convert_tokens_to_ids(tokens)\n",
    "    \n",
    "    inputs = {\n",
    "        \"input_ids\": torch.tensor([input_ids]),\n",
    "        \"attention_mask\": torch.tensor([[1] * len(input_ids)])\n",
    "    }\n",
    "    \n",
    "    with torch.no_grad():\n",
    "        outputs = model(**inputs)\n",
    "        predictions = torch.argmax(outputs.logits, dim=2)[0].tolist()\n",
    "    \n",
    "    results = []\n",
    "    i = 0\n",
    "    while i < len(tokens):\n",
    "        token = tokens[i]\n",
    "        \n",
    "        if token in tokenizer.all_special_tokens:\n",
    "            i += 1\n",
    "            continue\n",
    "        \n",
    "        pred_id = predictions[i]\n",
    "        label = id2label[pred_id]\n",
    "        entity_type = label_map.get(label, label)\n",
    "        \n",
    "        word = token.replace(\"##\", \"\")\n",
    "        start_idx = i\n",
    "        i += 1\n",
    "        \n",
    "        while i < len(tokens) and tokens[i].startswith(\"##\"):\n",
    "            word += tokens[i].replace(\"##\", \"\")\n",
    "            i += 1\n",
    "        \n",
    "        word_labels = [id2label[predictions[j]] for j in range(start_idx, i)]\n",
    "        entity_labels = [label_map.get(label, label) for label in word_labels]\n",
    "        \n",
    "        word_entity = entity_labels[0]\n",
    "        \n",
    "        results.append((word, word_entity))\n",
    "    \n",
    "    return results"
   ]
  },
  {
   "cell_type": "code",
   "execution_count": 38,
   "id": "aeae44bb-c598-4dc9-87ad-5073d8da9d3c",
   "metadata": {},
   "outputs": [
    {
     "name": "stdout",
     "output_type": "stream",
     "text": [
      "Apple: B-ORG\n",
      "Inc: I-PER\n",
      "Cupertino: B-ORG\n",
      "California: B-ORG\n"
     ]
    }
   ],
   "source": [
    "label_map = {\n",
    "    \"LABEL_0\": \"O\",\n",
    "    \"LABEL_1\": \"B-MISC\",\n",
    "    \"LABEL_2\": \"I-MISC\",\n",
    "    \"LABEL_3\": \"B-PER\",\n",
    "    \"LABEL_4\": \"I-PER\",\n",
    "    \"LABEL_5\": \"B-ORG\",\n",
    "    \"LABEL_6\": \"I-ORG\",\n",
    "    \"LABEL_7\": \"B-LOC\",\n",
    "    \"LABEL_8\": \"I-LOC\"\n",
    "}\n",
    "\n",
    "id2label = model.config.id2label\n",
    "\n",
    "model = AutoModelForTokenClassification.from_pretrained(\"./ner-model/checkpoint-2500\")\n",
    "tokenizer = AutoTokenizer.from_pretrained(\"./ner-model/checkpoint-2500\")\n",
    "\n",
    "text = \"Apple Inc. is based in Cupertino, California.\"\n",
    "entities = predict_entities(text, model, tokenizer, id2label, label_map)\n",
    "\n",
    "for word, label in entities:\n",
    "    if label != \"O\":\n",
    "        print(f\"{word}: {label}\")"
   ]
  }
 ],
 "metadata": {
  "kernelspec": {
   "display_name": "Python 3 (ipykernel)",
   "language": "python",
   "name": "python3"
  },
  "language_info": {
   "codemirror_mode": {
    "name": "ipython",
    "version": 3
   },
   "file_extension": ".py",
   "mimetype": "text/x-python",
   "name": "python",
   "nbconvert_exporter": "python",
   "pygments_lexer": "ipython3",
   "version": "3.9.5"
  }
 },
 "nbformat": 4,
 "nbformat_minor": 5
}
