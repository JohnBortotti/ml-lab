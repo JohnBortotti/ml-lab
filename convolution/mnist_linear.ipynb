{
 "cells": [
  {
   "cell_type": "code",
   "execution_count": 10,
   "id": "988c0c3b-4255-494c-9f02-888aa9643891",
   "metadata": {},
   "outputs": [],
   "source": [
    "import torch\n",
    "import torchvision\n",
    "import torch.nn as nn\n",
    "from torchvision.transforms import ToTensor\n",
    "import matplotlib.pyplot as plt"
   ]
  },
  {
   "cell_type": "code",
   "execution_count": 11,
   "id": "6fc9f4f8-7e17-42f0-9781-536c574ec918",
   "metadata": {},
   "outputs": [],
   "source": [
    "batch_size = 64\n",
    "\n",
    "training_data = torchvision.datasets.MNIST(\n",
    "    root='./data', \n",
    "    train=True,\n",
    "    download=True,\n",
    "    transform=ToTensor()\n",
    ")\n",
    "\n",
    "test_data = torchvision.datasets.MNIST(\n",
    "    root='./data', \n",
    "    train=False,\n",
    "    download=True,\n",
    "    transform=ToTensor()\n",
    ")\n",
    "\n",
    "train_loader = torch.utils.data.DataLoader(\n",
    "    training_data, \n",
    "    batch_size=batch_size, \n",
    "    shuffle=True\n",
    ")\n",
    "\n",
    "test_loader = torch.utils.data.DataLoader(\n",
    "    test_data, \n",
    "    batch_size=batch_size, \n",
    "    shuffle=False\n",
    ")"
   ]
  },
  {
   "cell_type": "code",
   "execution_count": 12,
   "id": "bc315152-9d90-41c6-9554-fea8a0ed8cf4",
   "metadata": {},
   "outputs": [],
   "source": [
    "class MnistModel(nn.Module):\n",
    "    def __init__(self):\n",
    "        super(MnistModel, self).__init__()\n",
    "\n",
    "        self.hidden_1 = nn.Linear(784, 256) # flattened input (28 * 28 -> 784)\n",
    "        self.hidden_2 = nn.Linear(256, 128)\n",
    "        self.out = nn.Linear(128, 10)\n",
    "        self.relu = nn.ReLU()\n",
    "        self.dropout = nn.Dropout(0.2)\n",
    "\n",
    "    def forward(self, inputs):\n",
    "        x = self.dropout(self.relu(self.hidden_1(inputs)))\n",
    "        x = self.dropout(self.relu(self.hidden_2(x)))\n",
    "        x = self.out(x)\n",
    "        \n",
    "        return x"
   ]
  },
  {
   "cell_type": "code",
   "execution_count": 13,
   "id": "d0c8e48c-8d8c-484f-b443-4d13d3e5e90b",
   "metadata": {},
   "outputs": [
    {
     "name": "stdout",
     "output_type": "stream",
     "text": [
      "MnistModel(\n",
      "  (hidden_1): Linear(in_features=784, out_features=256, bias=True)\n",
      "  (hidden_2): Linear(in_features=256, out_features=128, bias=True)\n",
      "  (out): Linear(in_features=128, out_features=10, bias=True)\n",
      "  (relu): ReLU()\n",
      "  (dropout): Dropout(p=0.2, inplace=False)\n",
      ")\n"
     ]
    }
   ],
   "source": [
    "model = MnistModel()\n",
    "print(model)"
   ]
  },
  {
   "cell_type": "code",
   "execution_count": 14,
   "id": "b0ae98d1-4ea7-43d5-85d6-e3926abd0430",
   "metadata": {},
   "outputs": [],
   "source": [
    "def train_model(model, criterion, optimizer, epochs=5, device='cpu'):\n",
    "    model = model.to(device)\n",
    "\n",
    "    for epoch in range(epochs):\n",
    "        model.train()\n",
    "        for batch_idx, (data, target) in enumerate(train_loader):\n",
    "            data, target = data.to(device), target.to(device)\n",
    "            data = data.view(-1, 784)\n",
    "            \n",
    "            output = model(data)\n",
    "            loss = criterion(output, target)\n",
    "            optimizer.zero_grad()\n",
    "            loss.backward()\n",
    "            optimizer.step()\n",
    "\n",
    "        print(f\"epoch: {epoch}    loss: {loss}\")"
   ]
  },
  {
   "cell_type": "code",
   "execution_count": 15,
   "id": "6aeab877-e5c8-4300-82a2-c971442992a5",
   "metadata": {},
   "outputs": [
    {
     "name": "stdout",
     "output_type": "stream",
     "text": [
      "epoch: 0    loss: 0.18451480567455292\n",
      "epoch: 1    loss: 0.1272057592868805\n",
      "epoch: 2    loss: 0.14142091572284698\n",
      "epoch: 3    loss: 0.11022572219371796\n",
      "epoch: 4    loss: 0.0006689182482659817\n",
      "epoch: 5    loss: 0.09874684363603592\n",
      "epoch: 6    loss: 0.32898563146591187\n",
      "epoch: 7    loss: 0.006738806143403053\n",
      "epoch: 8    loss: 0.004638139624148607\n",
      "epoch: 9    loss: 0.00014537794049829245\n",
      "epoch: 10    loss: 0.01205416675657034\n",
      "epoch: 11    loss: 0.02881051041185856\n",
      "epoch: 12    loss: 0.006374878343194723\n",
      "epoch: 13    loss: 0.00010276676039211452\n",
      "epoch: 14    loss: 0.0050817630253732204\n"
     ]
    }
   ],
   "source": [
    "cross_entropy = torch.nn.CrossEntropyLoss()\n",
    "adam = torch.optim.Adam(model.parameters(), lr=0.001)\n",
    "\n",
    "train_model(model, cross_entropy, adam, epochs=15, device='cuda')"
   ]
  },
  {
   "cell_type": "code",
   "execution_count": 16,
   "id": "b7211871-bdb3-4a10-8222-2728066718a9",
   "metadata": {},
   "outputs": [],
   "source": [
    "def test_model(model, device='cpu'):\n",
    "    model = model.to(device)\n",
    "    model.eval()\n",
    "    correct = 0\n",
    "    total = 0\n",
    "\n",
    "    with torch.no_grad():\n",
    "        for data, target in test_loader:\n",
    "            data, target = data.to(device), target.to(device)\n",
    "            data = data.view(-1, 784)\n",
    "\n",
    "            outputs = model(data)\n",
    "            _, predicted = torch.max(outputs.data, 1)\n",
    "\n",
    "            total += target.size(0)\n",
    "            correct += (predicted == target).sum().item()\n",
    "\n",
    "    accuracy = 100 * correct / total\n",
    "    print(f'Test Accuracy: {accuracy:.2f}%')"
   ]
  },
  {
   "cell_type": "code",
   "execution_count": 17,
   "id": "64eb6952-5989-4376-82a8-77cae46e2b7f",
   "metadata": {},
   "outputs": [
    {
     "name": "stdout",
     "output_type": "stream",
     "text": [
      "Test Accuracy: 98.24%\n"
     ]
    }
   ],
   "source": [
    "test_model(model, 'cuda')"
   ]
  },
  {
   "cell_type": "code",
   "execution_count": 18,
   "id": "dcaa1f42-e343-4516-a58f-ca05d13e5763",
   "metadata": {},
   "outputs": [
    {
     "data": {
      "text/plain": [
       "<matplotlib.image.AxesImage at 0x252e85105b0>"
      ]
     },
     "execution_count": 18,
     "metadata": {},
     "output_type": "execute_result"
    },
    {
     "data": {
      "image/png": "[encoded data removed]",
      "text/plain": [
       "<Figure size 640x480 with 1 Axes>"
      ]
     },
     "metadata": {},
     "output_type": "display_data"
    }
   ],
   "source": [
    "img, label = test_data[25]\n",
    "plt.imshow(img.squeeze(), cmap=\"gray\")"
   ]
  },
  {
   "cell_type": "code",
   "execution_count": 19,
   "id": "bad4d230-cb60-4fa0-91c7-7b87dacfaf19",
   "metadata": {},
   "outputs": [],
   "source": [
    "def inference(model, entry_idx, device='cpu'):\n",
    "    model.to(device)\n",
    "    model.eval()\n",
    "\n",
    "    with torch.no_grad():\n",
    "        data, _ = test_data[entry_idx]\n",
    "        data = data.to(device)\n",
    "        data = data.view(-1, 784)\n",
    "\n",
    "        outputs = model(data)\n",
    "        _, predicted = torch.max(outputs.data, 1)\n",
    "\n",
    "        print(f'Predicted digit: {predicted[0]}')"
   ]
  },
  {
   "cell_type": "code",
   "execution_count": 20,
   "id": "30227950-056d-4fb8-badb-f22922f7deb5",
   "metadata": {},
   "outputs": [
    {
     "name": "stdout",
     "output_type": "stream",
     "text": [
      "Predicted digit: 0\n"
     ]
    }
   ],
   "source": [
    "inference(model, 25, 'cuda')"
   ]
  }
 ],
 "metadata": {
  "kernelspec": {
   "display_name": "Python 3 (ipykernel)",
   "language": "python",
   "name": "python3"
  },
  "language_info": {
   "codemirror_mode": {
    "name": "ipython",
    "version": 3
   },
   "file_extension": ".py",
   "mimetype": "text/x-python",
   "name": "python",
   "nbconvert_exporter": "python",
   "pygments_lexer": "ipython3",
   "version": "3.9.5"
  }
 },
 "nbformat": 4,
 "nbformat_minor": 5
}
